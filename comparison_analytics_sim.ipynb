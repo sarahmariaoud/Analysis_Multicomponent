{
 "cells": [
  {
   "cell_type": "code",
   "execution_count": 1,
   "metadata": {
    "collapsed": true
   },
   "outputs": [],
   "source": [
    "#importing my python files\n",
    "import equations2D as eqtd\n",
    "import read_binary as rb"
   ]
  },
  {
   "cell_type": "code",
   "execution_count": 2,
   "outputs": [],
   "source": [
    "#importing other python files\n",
    "import matplotlib.pyplot as plt\n",
    "import numpy as np\n",
    "import pandas as pd"
   ],
   "metadata": {
    "collapsed": false
   }
  },
  {
   "cell_type": "code",
   "execution_count": 25,
   "outputs": [],
   "source": [
    "#some hyper paramaters with dimensionless variables\n",
    "vr = 1\n",
    "ve = 0\n",
    "v2 = 1\n",
    "F1 = 1\n",
    "Ntot = 20"
   ],
   "metadata": {
    "collapsed": false
   }
  },
  {
   "cell_type": "code",
   "execution_count": 26,
   "outputs": [
    {
     "name": "stdout",
     "output_type": "stream",
     "text": [
      " N =  [10.0, 10.0]\n",
      " F =  [[1, 0], [0, 1]]\n"
     ]
    }
   ],
   "source": [
    "#getting the appropriate variables using the dimensionless\n",
    "Ntypes=2\n",
    "q = [0,0]\n",
    "N,F = eqtd.pars(Ntot,F1,vr,ve,v2)\n",
    "print(\" N = \", N)\n",
    "print(\" F = \",F)"
   ],
   "metadata": {
    "collapsed": false
   }
  },
  {
   "cell_type": "code",
   "execution_count": 28,
   "outputs": [],
   "source": [
    "#loading the data (if it exists)\n",
    "dat_mac = rb.dataMacroMC(Ntypes,N,q,F)\n",
    "dat_mic= rb.dataMicroMC(Ntypes,N,q,F)"
   ],
   "metadata": {
    "collapsed": false
   }
  },
  {
   "cell_type": "code",
   "execution_count": 29,
   "outputs": [
    {
     "data": {
      "text/plain": "           time       C\n0      0.000000  [1, 0]\n1      0.000000  [1, 0]\n2      0.000000  [1, 0]\n3      0.000000  [1, 0]\n4      0.000000  [1, 0]\n...         ...     ...\n1147  21.113261  [0, 1]\n1148  21.113261  [0, 1]\n1149  21.113261  [0, 2]\n1150  21.113261  [0, 1]\n1151  21.113261  [0, 1]\n\n[1152 rows x 2 columns]",
      "text/html": "<div>\n<style scoped>\n    .dataframe tbody tr th:only-of-type {\n        vertical-align: middle;\n    }\n\n    .dataframe tbody tr th {\n        vertical-align: top;\n    }\n\n    .dataframe thead th {\n        text-align: right;\n    }\n</style>\n<table border=\"1\" class=\"dataframe\">\n  <thead>\n    <tr style=\"text-align: right;\">\n      <th></th>\n      <th>time</th>\n      <th>C</th>\n    </tr>\n  </thead>\n  <tbody>\n    <tr>\n      <th>0</th>\n      <td>0.000000</td>\n      <td>[1, 0]</td>\n    </tr>\n    <tr>\n      <th>1</th>\n      <td>0.000000</td>\n      <td>[1, 0]</td>\n    </tr>\n    <tr>\n      <th>2</th>\n      <td>0.000000</td>\n      <td>[1, 0]</td>\n    </tr>\n    <tr>\n      <th>3</th>\n      <td>0.000000</td>\n      <td>[1, 0]</td>\n    </tr>\n    <tr>\n      <th>4</th>\n      <td>0.000000</td>\n      <td>[1, 0]</td>\n    </tr>\n    <tr>\n      <th>...</th>\n      <td>...</td>\n      <td>...</td>\n    </tr>\n    <tr>\n      <th>1147</th>\n      <td>21.113261</td>\n      <td>[0, 1]</td>\n    </tr>\n    <tr>\n      <th>1148</th>\n      <td>21.113261</td>\n      <td>[0, 1]</td>\n    </tr>\n    <tr>\n      <th>1149</th>\n      <td>21.113261</td>\n      <td>[0, 2]</td>\n    </tr>\n    <tr>\n      <th>1150</th>\n      <td>21.113261</td>\n      <td>[0, 1]</td>\n    </tr>\n    <tr>\n      <th>1151</th>\n      <td>21.113261</td>\n      <td>[0, 1]</td>\n    </tr>\n  </tbody>\n</table>\n<p>1152 rows × 2 columns</p>\n</div>"
     },
     "execution_count": 29,
     "metadata": {},
     "output_type": "execute_result"
    }
   ],
   "source": [
    "#getting the data frames\n",
    "df_mic = dat_mic.df\n",
    "df_mac = dat_mac.df\n",
    "df_mic"
   ],
   "metadata": {
    "collapsed": false
   }
  },
  {
   "cell_type": "code",
   "execution_count": 32,
   "outputs": [
    {
     "data": {
      "text/plain": "<Figure size 640x480 with 1 Axes>",
      "image/png": "[encoded data removed]"
     },
     "metadata": {},
     "output_type": "display_data"
    }
   ],
   "source": [
    "#comparison of monomer dynamics\n",
    "t_an = np.linspace(0,max(df_mac[\"time\"]))\n",
    "nm_an = eqtd.mono_dyn(t_an,N,F)\n",
    "\n",
    "for i in range(Ntypes):\n",
    "    plt.scatter(df_mac[\"time\"],df_mac[\"Nm\"].apply(lambda x:x[i]),alpha=0.2,color ='black')\n",
    "    plt.plot(t_an,nm_an[i],color='orange')\n",
    "\n"
   ],
   "metadata": {
    "collapsed": false
   }
  },
  {
   "cell_type": "code",
   "execution_count": 50,
   "outputs": [
    {
     "name": "stdout",
     "output_type": "stream",
     "text": [
      "time\n",
      "0.000000     [[1, 0], [1, 0], [1, 0], [1, 0], [1, 0], [1, 0...\n",
      "0.407269     [[2, 0], [1, 0], [1, 0], [1, 0], [1, 0], [1, 0...\n",
      "1.473202     [[2, 0], [1, 0], [1, 0], [1, 0], [1, 0], [2, 0...\n",
      "3.387274     [[2, 0], [1, 0], [1, 0], [1, 0], [1, 0], [2, 0...\n",
      "3.598758     [[3, 0], [1, 0], [1, 0], [1, 0], [1, 0], [2, 0...\n",
      "5.194879     [[3, 0], [2, 0], [1, 0], [1, 0], [2, 0], [1, 0...\n",
      "5.273423     [[3, 0], [2, 0], [1, 0], [1, 0], [2, 0], [1, 0...\n",
      "6.074933     [[3, 0], [2, 0], [1, 0], [1, 0], [2, 0], [1, 0...\n",
      "10.078198    [[3, 0], [2, 0], [1, 0], [1, 0], [2, 0], [1, 0...\n",
      "14.776337    [[4, 0], [2, 0], [1, 0], [2, 0], [1, 0], [0, 2...\n",
      "15.266054    [[4, 0], [2, 0], [1, 0], [2, 0], [1, 0], [0, 2...\n",
      "18.203631    [[4, 0], [2, 0], [1, 0], [2, 0], [1, 0], [0, 7...\n",
      "19.629375    [[6, 0], [1, 0], [2, 0], [1, 0], [0, 7], [0, 1...\n",
      "21.216075    [[8, 0], [1, 0], [1, 0], [0, 7], [0, 1], [0, 1...\n",
      "Name: C, dtype: object\n"
     ]
    }
   ],
   "source": [
    "#getting the second moment (from micro data)\n",
    "run=0\n",
    "dfs_mom2 = [ for run]\n",
    "d =dat_mic.dfs[run].groupby(\"time\")['C'].apply(list)\n",
    "print(d)\n",
    "\n",
    "# index=8\n",
    "# alpha =0\n",
    "# beta =0\n",
    "# mom2 =0\n",
    "# for di in d[index]:\n",
    "#     mom2 = mom2 + (di[alpha]*di[beta])\n",
    "# mom2\n",
    "# df_mic[\"G_tot\"]=df_mic[\"C\"].apply(lambda x : sum(x))\n",
    "# for i in range(Ntypes):\n",
    "#     str = \"G\""
   ],
   "metadata": {
    "collapsed": false
   }
  },
  {
   "cell_type": "code",
   "execution_count": 7,
   "outputs": [
    {
     "data": {
      "text/plain": "             time  Ntot  N_c           N          Nm\n0        0.000000   500  500  [250, 250]  [250, 250]\n1        0.078111   500  499  [250, 250]  [250, 248]\n2        2.241880   500  498  [250, 250]  [250, 246]\n3        4.659609   500  497  [250, 250]  [248, 246]\n4        7.946080   500  496  [250, 250]  [246, 246]\n...           ...   ...  ...         ...         ...\n3990  2171.897969   500    6  [250, 250]      [1, 3]\n3991  2227.628622   500    5  [250, 250]      [1, 2]\n3992  2481.161522   500    4  [250, 250]      [1, 1]\n3993  2831.278490   500    3  [250, 250]      [0, 1]\n3994  3208.727638   500    2  [250, 250]      [0, 0]\n\n[3995 rows x 5 columns]",
      "text/html": "<div>\n<style scoped>\n    .dataframe tbody tr th:only-of-type {\n        vertical-align: middle;\n    }\n\n    .dataframe tbody tr th {\n        vertical-align: top;\n    }\n\n    .dataframe thead th {\n        text-align: right;\n    }\n</style>\n<table border=\"1\" class=\"dataframe\">\n  <thead>\n    <tr style=\"text-align: right;\">\n      <th></th>\n      <th>time</th>\n      <th>Ntot</th>\n      <th>N_c</th>\n      <th>N</th>\n      <th>Nm</th>\n    </tr>\n  </thead>\n  <tbody>\n    <tr>\n      <th>0</th>\n      <td>0.000000</td>\n      <td>500</td>\n      <td>500</td>\n      <td>[250, 250]</td>\n      <td>[250, 250]</td>\n    </tr>\n    <tr>\n      <th>1</th>\n      <td>0.078111</td>\n      <td>500</td>\n      <td>499</td>\n      <td>[250, 250]</td>\n      <td>[250, 248]</td>\n    </tr>\n    <tr>\n      <th>2</th>\n      <td>2.241880</td>\n      <td>500</td>\n      <td>498</td>\n      <td>[250, 250]</td>\n      <td>[250, 246]</td>\n    </tr>\n    <tr>\n      <th>3</th>\n      <td>4.659609</td>\n      <td>500</td>\n      <td>497</td>\n      <td>[250, 250]</td>\n      <td>[248, 246]</td>\n    </tr>\n    <tr>\n      <th>4</th>\n      <td>7.946080</td>\n      <td>500</td>\n      <td>496</td>\n      <td>[250, 250]</td>\n      <td>[246, 246]</td>\n    </tr>\n    <tr>\n      <th>...</th>\n      <td>...</td>\n      <td>...</td>\n      <td>...</td>\n      <td>...</td>\n      <td>...</td>\n    </tr>\n    <tr>\n      <th>3990</th>\n      <td>2171.897969</td>\n      <td>500</td>\n      <td>6</td>\n      <td>[250, 250]</td>\n      <td>[1, 3]</td>\n    </tr>\n    <tr>\n      <th>3991</th>\n      <td>2227.628622</td>\n      <td>500</td>\n      <td>5</td>\n      <td>[250, 250]</td>\n      <td>[1, 2]</td>\n    </tr>\n    <tr>\n      <th>3992</th>\n      <td>2481.161522</td>\n      <td>500</td>\n      <td>4</td>\n      <td>[250, 250]</td>\n      <td>[1, 1]</td>\n    </tr>\n    <tr>\n      <th>3993</th>\n      <td>2831.278490</td>\n      <td>500</td>\n      <td>3</td>\n      <td>[250, 250]</td>\n      <td>[0, 1]</td>\n    </tr>\n    <tr>\n      <th>3994</th>\n      <td>3208.727638</td>\n      <td>500</td>\n      <td>2</td>\n      <td>[250, 250]</td>\n      <td>[0, 0]</td>\n    </tr>\n  </tbody>\n</table>\n<p>3995 rows × 5 columns</p>\n</div>"
     },
     "execution_count": 7,
     "metadata": {},
     "output_type": "execute_result"
    }
   ],
   "source": [
    "df_mac"
   ],
   "metadata": {
    "collapsed": false
   }
  },
  {
   "cell_type": "code",
   "execution_count": null,
   "outputs": [],
   "source": [
    "m=np.array(l).transpose()"
   ],
   "metadata": {
    "collapsed": false
   }
  },
  {
   "cell_type": "code",
   "execution_count": null,
   "outputs": [],
   "source": [
    "df_micro"
   ],
   "metadata": {
    "collapsed": false
   }
  },
  {
   "cell_type": "code",
   "execution_count": null,
   "outputs": [],
   "source": [
    "#getting the second moment\n",
    "\n",
    "#1- making the appropriate data frame\n",
    "df2 = pd.DataFrame(df_micro[\"time\"])\n",
    "df2[[\"nk1\",\"nk2\"]] = pd.DataFrame(df_micro.C.tolist(),index= df2.index)"
   ],
   "metadata": {
    "collapsed": false
   }
  },
  {
   "cell_type": "code",
   "execution_count": null,
   "outputs": [],
   "source": [
    "df2"
   ],
   "metadata": {
    "collapsed": false
   }
  },
  {
   "cell_type": "code",
   "execution_count": null,
   "outputs": [],
   "source": [],
   "metadata": {
    "collapsed": false
   }
  }
 ],
 "metadata": {
  "kernelspec": {
   "display_name": "Python 3",
   "language": "python",
   "name": "python3"
  },
  "language_info": {
   "codemirror_mode": {
    "name": "ipython",
    "version": 2
   },
   "file_extension": ".py",
   "mimetype": "text/x-python",
   "name": "python",
   "nbconvert_exporter": "python",
   "pygments_lexer": "ipython2",
   "version": "2.7.6"
  }
 },
 "nbformat": 4,
 "nbformat_minor": 0
}
