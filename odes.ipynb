{
 "cells": [
  {
   "cell_type": "code",
   "execution_count": 5,
   "outputs": [],
   "source": [
    "x = sy.symbols('x')\n",
    "y= sy.Function('y')\n",
    "dx_y = sy.Derivative(y(x),x)\n",
    "ode = dx_y + (y(x)**2)/(x*x)"
   ],
   "metadata": {
    "collapsed": false
   }
  },
  {
   "cell_type": "code",
   "execution_count": 6,
   "outputs": [
    {
     "name": "stdout",
     "output_type": "stream",
     "text": [
      "            2   \n",
      "d          y (x)\n",
      "──(y(x)) + ─────\n",
      "dx            2 \n",
      "             x  \n",
      "            2   \n",
      "d          y (x)\n",
      "──(y(x)) + ─────\n",
      "dx            2 \n",
      "             x  \n"
     ]
    }
   ],
   "source": [
    "sy.pprint(ode)"
   ],
   "metadata": {
    "collapsed": false
   }
  },
  {
   "cell_type": "code",
   "execution_count": 6,
   "outputs": [],
   "source": [],
   "metadata": {
    "collapsed": false
   }
  }
 ],
 "metadata": {
  "kernelspec": {
   "display_name": "Python 3",
   "language": "python",
   "name": "python3"
  },
  "language_info": {
   "codemirror_mode": {
    "name": "ipython",
    "version": 2
   },
   "file_extension": ".py",
   "mimetype": "text/x-python",
   "name": "python",
   "nbconvert_exporter": "python",
   "pygments_lexer": "ipython2",
   "version": "2.7.6"
  }
 },
 "nbformat": 4,
 "nbformat_minor": 0
}
